{
  "nbformat": 4,
  "nbformat_minor": 0,
  "metadata": {
    "colab": {
      "provenance": []
    },
    "kernelspec": {
      "name": "python3",
      "display_name": "Python 3"
    },
    "language_info": {
      "name": "python"
    }
  },
  "cells": [
    {
      "cell_type": "code",
      "source": [
        "from google.colab import drive\n",
        "drive.mount('/content/drive')"
      ],
      "metadata": {
        "id": "mEIEtPEUsH3z",
        "colab": {
          "base_uri": "https://localhost:8080/"
        },
        "outputId": "a9d621a1-af23-49b6-d5ba-c20602ff33df"
      },
      "execution_count": null,
      "outputs": [
        {
          "output_type": "stream",
          "name": "stdout",
          "text": [
            "Mounted at /content/drive\n"
          ]
        }
      ]
    },
    {
      "cell_type": "code",
      "execution_count": 2,
      "metadata": {
        "id": "5ivXxRGeQ0YL",
        "colab": {
          "base_uri": "https://localhost:8080/"
        },
        "outputId": "a00ab3d2-8477-4ff8-afc3-737c3ba1ff40"
      },
      "outputs": [
        {
          "output_type": "execute_result",
          "data": {
            "text/plain": [
              "(         0         1         2         3         4         5         6   \\\n",
              " 0  0.747082 -0.431751  0.378133  0.220872  0.232501  0.442089 -1.373493   \n",
              " 1 -0.026492 -1.551366  0.273038 -1.169424  1.046536  0.566434  0.504650   \n",
              " 2  1.499628  0.526572  2.644983  2.924317  6.146281 -0.449825  0.059980   \n",
              " 3 -0.445425  1.183950  0.754918 -0.868256  0.046806 -0.988437 -1.000963   \n",
              " 4  0.269122  0.897501 -0.740030 -0.483209 -0.050316  0.012389  0.717192   \n",
              " \n",
              "          7         8         9         10        11        12        13  \\\n",
              " 0  0.457332  0.547283 -0.300213 -0.142167  0.030204 -0.427902  0.019681   \n",
              " 1 -0.364851  1.349203 -0.723616 -0.894207 -0.793982  0.472655  0.104144   \n",
              " 2 -0.619301 -0.371914  1.275600  0.047106 -0.271545 -0.240779 -0.155099   \n",
              " 3 -0.449803  1.635952  0.785759 -0.502600 -0.227238 -0.578829  0.314474   \n",
              " 4 -1.489855  0.015274  1.130452  0.331977  0.496302 -0.281362  0.051201   \n",
              " \n",
              "          14        15        16        17  \n",
              " 0  0.312223 -0.590294 -0.096866 -0.523664  \n",
              " 1  0.622249  0.331893  0.092754  0.658405  \n",
              " 2 -0.277420 -0.539547 -0.237904  0.012850  \n",
              " 3 -0.031879  0.297181 -0.588200  0.796501  \n",
              " 4  0.115268 -0.058352 -0.309611  0.180248  ,\n",
              "    building_id  damage_grade\n",
              " 0       716310             3\n",
              " 1       283080             3\n",
              " 2       690774             2\n",
              " 3       904803             2\n",
              " 4       991971             2,\n",
              "          0         1         2         3         4         5         6   \\\n",
              " 0  2.341063 -0.891174 -0.038998 -0.543567  0.432364  1.166288  0.842240   \n",
              " 1 -2.210280  0.144375 -0.172879  1.518096 -0.303868  0.580000 -0.680454   \n",
              " 2 -2.700579  0.235075 -0.833069 -0.080474 -2.238318 -0.356801 -0.623422   \n",
              " 3 -2.327840  0.772226  1.064695 -0.486164  0.527728  0.585490 -0.687224   \n",
              " 4  0.026750  1.359432  0.645687  0.116091 -0.141129 -0.039963 -0.926520   \n",
              " \n",
              "          7         8         9         10        11        12        13  \\\n",
              " 0  0.103696  0.192038  0.701616 -0.395112 -0.320255  1.440125  0.712212   \n",
              " 1 -0.377549  1.397018 -0.546567  0.698905  0.374376  0.376998  0.906838   \n",
              " 2  0.546657 -0.656805 -0.244946 -0.067282  0.347170  0.036148 -0.363114   \n",
              " 3  0.243246  1.013068 -0.475550  0.215920  0.089009  0.013273 -0.205757   \n",
              " 4  1.312497  0.508692 -0.420085 -0.058995  0.047076 -0.255305  0.122639   \n",
              " \n",
              "          14        15        16        17  \n",
              " 0 -0.486173  0.338500  0.095019 -0.001196  \n",
              " 1 -0.054628  0.396697 -0.573415  0.830622  \n",
              " 2  0.041927  0.336675 -0.037006 -0.064525  \n",
              " 3  0.493648  0.183899 -0.181945  0.694225  \n",
              " 4  0.530671  0.230209  0.105276 -0.539430  ,\n",
              "    building_id  damage_grade\n",
              " 0       449925             3\n",
              " 1       661669             2\n",
              " 2      1001567             2\n",
              " 3       904649             2\n",
              " 4       978604             3)"
            ]
          },
          "metadata": {},
          "execution_count": 2
        }
      ],
      "source": [
        "import pandas as pd\n",
        "\n",
        "# Load the datasets\n",
        "X_train = pd.read_csv('/content/drive/MyDrive/Modeling-Earthquake-Damage-main/Resources/Processed data/X_train_processed.csv', header = None)\n",
        "y_train = pd.read_csv('/content/drive/MyDrive/Modeling-Earthquake-Damage-main/Resources/Processed data/y_train_processed.csv')\n",
        "X_test = pd.read_csv('/content/drive/MyDrive/Modeling-Earthquake-Damage-main/Resources/Processed data/X_test_processed.csv', header = None)\n",
        "y_test = pd.read_csv('/content/drive/MyDrive/Modeling-Earthquake-Damage-main/Resources/Processed data/y_test_processed.csv')\n",
        "\n",
        "X_train.head(), y_train.head(), X_test.head(), y_test.head()\n"
      ]
    },
    {
      "cell_type": "code",
      "source": [
        "\n",
        "if isinstance(y_train, pd.DataFrame):\n",
        "    y_train = y_train['damage_grade']\n",
        "if isinstance(y_test, pd.DataFrame):\n",
        "    y_test = y_test['damage_grade']\n",
        "\n",
        "y_train = y_train.squeeze()\n",
        "y_test = y_test.squeeze()\n"
      ],
      "metadata": {
        "id": "hnC5nStosxCY"
      },
      "execution_count": 3,
      "outputs": []
    },
    {
      "cell_type": "code",
      "source": [
        "print(f'X_train shape: {X_train.shape}')\n",
        "print(f'y_train shape: {y_train.shape}')\n"
      ],
      "metadata": {
        "id": "aVptUQeyt8Xk",
        "colab": {
          "base_uri": "https://localhost:8080/"
        },
        "outputId": "7485545c-5cef-43b9-c1c6-6d45c5211346"
      },
      "execution_count": 4,
      "outputs": [
        {
          "output_type": "stream",
          "name": "stdout",
          "text": [
            "X_train shape: (208480, 18)\n",
            "y_train shape: (208480,)\n"
          ]
        }
      ]
    },
    {
      "cell_type": "code",
      "source": [
        "from sklearn.neighbors import KNeighborsClassifier\n",
        "from sklearn.metrics import f1_score\n",
        "import numpy as np\n",
        "from sklearn import metrics\n",
        "# calculating the accuracy of models with different values of k\n",
        "mean_acc = np.zeros(20)\n",
        "for i in range(1,21):\n",
        "    #Train Model and Predict\n",
        "    knn = KNeighborsClassifier(n_neighbors = i).fit(X_train,y_train)\n",
        "    yhat= knn.predict(X_test)\n",
        "    mean_acc[i-1] = metrics.accuracy_score(y_test, yhat)\n",
        "\n",
        "mean_acc"
      ],
      "metadata": {
        "colab": {
          "base_uri": "https://localhost:8080/"
        },
        "id": "V34HCUPpiLKh",
        "outputId": "891f013c-cb20-41c5-f345-0466804e05f4"
      },
      "execution_count": 5,
      "outputs": [
        {
          "output_type": "execute_result",
          "data": {
            "text/plain": [
              "array([0.62767407, 0.62963105, 0.63943516, 0.65342185, 0.65217475,\n",
              "       0.6541701 , 0.65363289, 0.65497592, 0.65372882, 0.65566662,\n",
              "       0.65562825, 0.65712477, 0.65608872, 0.6566643 , 0.65547476,\n",
              "       0.65599279, 0.6559736 , 0.6570864 , 0.65582011, 0.65545557])"
            ]
          },
          "metadata": {},
          "execution_count": 5
        }
      ]
    },
    {
      "cell_type": "code",
      "source": [
        "import matplotlib.pyplot as plt\n",
        "\n",
        "# Plot the accuracy\n",
        "loc = np.arange(1,21,step=1.0)\n",
        "plt.figure(figsize = (10, 6))\n",
        "plt.plot(range(1,21), mean_acc)\n",
        "plt.xticks(loc)\n",
        "plt.xlabel('Number of Neighbors ')\n",
        "plt.ylabel('Accuracy')\n",
        "plt.show()"
      ],
      "metadata": {
        "colab": {
          "base_uri": "https://localhost:8080/",
          "height": 521
        },
        "id": "tfRQOcvCiRzq",
        "outputId": "3b6e5b71-713c-4154-cde0-27973585b579"
      },
      "execution_count": 6,
      "outputs": [
        {
          "output_type": "display_data",
          "data": {
            "text/plain": [
              "<Figure size 1000x600 with 1 Axes>"
            ],
            "image/png": "[encoded data removed]"
          },
          "metadata": {}
        }
      ]
    },
    {
      "cell_type": "code",
      "source": [
        "# ERROR\n",
        "# Tune hyperparameter\n",
        "from sklearn.model_selection import GridSearchCV\n",
        "param_grid = {\n",
        "    'n_neighbors': [18,19,20],\n",
        "    'weights': ['uniform', 'distance'],\n",
        "    'metric': ['euclidean', 'manhattan']\n",
        "}\n",
        "\n",
        "# Setup GridSearchCV\n",
        "grid_search = GridSearchCV(estimator=knn, param_grid=param_grid, cv=5, scoring='accuracy', verbose=1)\n",
        "\n",
        "# Fit GridSearchCV on the training data\n",
        "grid_search.fit(X_train, y_train)\n",
        "\n",
        "# Best parameters and best score\n",
        "best_params = grid_search.best_params_\n",
        "best_score = grid_search.best_score_\n",
        "\n",
        "best_params, best_score"
      ],
      "metadata": {
        "id": "vkXmoge5hSnR",
        "outputId": "67ae670d-05ce-4c59-c97d-eadd3d028bc9",
        "colab": {
          "base_uri": "https://localhost:8080/"
        }
      },
      "execution_count": 7,
      "outputs": [
        {
          "output_type": "stream",
          "name": "stdout",
          "text": [
            "Fitting 5 folds for each of 12 candidates, totalling 60 fits\n"
          ]
        },
        {
          "output_type": "execute_result",
          "data": {
            "text/plain": [
              "({'metric': 'manhattan', 'n_neighbors': 19, 'weights': 'distance'},\n",
              " 0.6613104374520338)"
            ]
          },
          "metadata": {},
          "execution_count": 7
        }
      ]
    },
    {
      "cell_type": "code",
      "source": [
        "# use the best hyperparameters\n",
        "knn = KNeighborsClassifier(n_neighbors = 20, weights = 'uniform',algorithm = 'brute',metric = 'minkowski')\n",
        "knn.fit(X_train, y_train)"
      ],
      "metadata": {
        "colab": {
          "base_uri": "https://localhost:8080/",
          "height": 74
        },
        "id": "qEnn7h4omSRn",
        "outputId": "beb2dfde-d322-4308-b917-a58300ee3548"
      },
      "execution_count": 8,
      "outputs": [
        {
          "output_type": "execute_result",
          "data": {
            "text/plain": [
              "KNeighborsClassifier(algorithm='brute', n_neighbors=20)"
            ],
            "text/html": [
              "<style>#sk-container-id-1 {color: black;background-color: white;}#sk-container-id-1 pre{padding: 0;}#sk-container-id-1 div.sk-toggleable {background-color: white;}#sk-container-id-1 label.sk-toggleable__label {cursor: pointer;display: block;width: 100%;margin-bottom: 0;padding: 0.3em;box-sizing: border-box;text-align: center;}#sk-container-id-1 label.sk-toggleable__label-arrow:before {content: \"▸\";float: left;margin-right: 0.25em;color: #696969;}#sk-container-id-1 label.sk-toggleable__label-arrow:hover:before {color: black;}#sk-container-id-1 div.sk-estimator:hover label.sk-toggleable__label-arrow:before {color: black;}#sk-container-id-1 div.sk-toggleable__content {max-height: 0;max-width: 0;overflow: hidden;text-align: left;background-color: #f0f8ff;}#sk-container-id-1 div.sk-toggleable__content pre {margin: 0.2em;color: black;border-radius: 0.25em;background-color: #f0f8ff;}#sk-container-id-1 input.sk-toggleable__control:checked~div.sk-toggleable__content {max-height: 200px;max-width: 100%;overflow: auto;}#sk-container-id-1 input.sk-toggleable__control:checked~label.sk-toggleable__label-arrow:before {content: \"▾\";}#sk-container-id-1 div.sk-estimator input.sk-toggleable__control:checked~label.sk-toggleable__label {background-color: #d4ebff;}#sk-container-id-1 div.sk-label input.sk-toggleable__control:checked~label.sk-toggleable__label {background-color: #d4ebff;}#sk-container-id-1 input.sk-hidden--visually {border: 0;clip: rect(1px 1px 1px 1px);clip: rect(1px, 1px, 1px, 1px);height: 1px;margin: -1px;overflow: hidden;padding: 0;position: absolute;width: 1px;}#sk-container-id-1 div.sk-estimator {font-family: monospace;background-color: #f0f8ff;border: 1px dotted black;border-radius: 0.25em;box-sizing: border-box;margin-bottom: 0.5em;}#sk-container-id-1 div.sk-estimator:hover {background-color: #d4ebff;}#sk-container-id-1 div.sk-parallel-item::after {content: \"\";width: 100%;border-bottom: 1px solid gray;flex-grow: 1;}#sk-container-id-1 div.sk-label:hover label.sk-toggleable__label {background-color: #d4ebff;}#sk-container-id-1 div.sk-serial::before {content: \"\";position: absolute;border-left: 1px solid gray;box-sizing: border-box;top: 0;bottom: 0;left: 50%;z-index: 0;}#sk-container-id-1 div.sk-serial {display: flex;flex-direction: column;align-items: center;background-color: white;padding-right: 0.2em;padding-left: 0.2em;position: relative;}#sk-container-id-1 div.sk-item {position: relative;z-index: 1;}#sk-container-id-1 div.sk-parallel {display: flex;align-items: stretch;justify-content: center;background-color: white;position: relative;}#sk-container-id-1 div.sk-item::before, #sk-container-id-1 div.sk-parallel-item::before {content: \"\";position: absolute;border-left: 1px solid gray;box-sizing: border-box;top: 0;bottom: 0;left: 50%;z-index: -1;}#sk-container-id-1 div.sk-parallel-item {display: flex;flex-direction: column;z-index: 1;position: relative;background-color: white;}#sk-container-id-1 div.sk-parallel-item:first-child::after {align-self: flex-end;width: 50%;}#sk-container-id-1 div.sk-parallel-item:last-child::after {align-self: flex-start;width: 50%;}#sk-container-id-1 div.sk-parallel-item:only-child::after {width: 0;}#sk-container-id-1 div.sk-dashed-wrapped {border: 1px dashed gray;margin: 0 0.4em 0.5em 0.4em;box-sizing: border-box;padding-bottom: 0.4em;background-color: white;}#sk-container-id-1 div.sk-label label {font-family: monospace;font-weight: bold;display: inline-block;line-height: 1.2em;}#sk-container-id-1 div.sk-label-container {text-align: center;}#sk-container-id-1 div.sk-container {/* jupyter's `normalize.less` sets `[hidden] { display: none; }` but bootstrap.min.css set `[hidden] { display: none !important; }` so we also need the `!important` here to be able to override the default hidden behavior on the sphinx rendered scikit-learn.org. See: https://github.com/scikit-learn/scikit-learn/issues/21755 */display: inline-block !important;position: relative;}#sk-container-id-1 div.sk-text-repr-fallback {display: none;}</style><div id=\"sk-container-id-1\" class=\"sk-top-container\"><div class=\"sk-text-repr-fallback\"><pre>KNeighborsClassifier(algorithm=&#x27;brute&#x27;, n_neighbors=20)</pre><b>In a Jupyter environment, please rerun this cell to show the HTML representation or trust the notebook. <br />On GitHub, the HTML representation is unable to render, please try loading this page with nbviewer.org.</b></div><div class=\"sk-container\" hidden><div class=\"sk-item\"><div class=\"sk-estimator sk-toggleable\"><input class=\"sk-toggleable__control sk-hidden--visually\" id=\"sk-estimator-id-1\" type=\"checkbox\" checked><label for=\"sk-estimator-id-1\" class=\"sk-toggleable__label sk-toggleable__label-arrow\">KNeighborsClassifier</label><div class=\"sk-toggleable__content\"><pre>KNeighborsClassifier(algorithm=&#x27;brute&#x27;, n_neighbors=20)</pre></div></div></div></div></div>"
            ]
          },
          "metadata": {},
          "execution_count": 8
        }
      ]
    },
    {
      "cell_type": "code",
      "source": [
        "# get a prediction\n",
        "y_hat = knn.predict(X_train)\n",
        "y_knn = knn.predict(X_test)"
      ],
      "metadata": {
        "id": "rYi-fxCcmVvz"
      },
      "execution_count": 9,
      "outputs": []
    },
    {
      "cell_type": "code",
      "source": [
        "#Model Evaluation\n",
        "print('Training set accuracy: ', metrics.accuracy_score(y_train, y_hat))\n",
        "print('Test set accuracy: ',metrics.accuracy_score(y_test, y_knn))\n",
        "\n",
        "from sklearn.metrics import confusion_matrix\n",
        "print(confusion_matrix(y_test, y_knn))\n",
        "\n",
        "from sklearn.metrics import classification_report\n",
        "print(classification_report(y_test, y_knn))\n",
        "\n",
        "from sklearn.model_selection import cross_val_score\n",
        "scores = cross_val_score(knn, X_train, y_train, cv =5)\n",
        "\n",
        "print('Model accuracy: ',np.mean(scores))"
      ],
      "metadata": {
        "colab": {
          "base_uri": "https://localhost:8080/"
        },
        "id": "U85V3eFFmfUj",
        "outputId": "f752f502-07dc-4858-a727-4ee99afcb5be"
      },
      "execution_count": 10,
      "outputs": [
        {
          "output_type": "stream",
          "name": "stdout",
          "text": [
            "Training set accuracy:  0.6891212586339217\n",
            "Test set accuracy:  0.655455574528501\n",
            "[[ 2183  2591   251]\n",
            " [ 1521 23694  4437]\n",
            " [  154  9004  8286]]\n",
            "              precision    recall  f1-score   support\n",
            "\n",
            "           1       0.57      0.43      0.49      5025\n",
            "           2       0.67      0.80      0.73     29652\n",
            "           3       0.64      0.48      0.54     17444\n",
            "\n",
            "    accuracy                           0.66     52121\n",
            "   macro avg       0.63      0.57      0.59     52121\n",
            "weighted avg       0.65      0.66      0.64     52121\n",
            "\n",
            "Model accuracy:  0.6495826937835764\n"
          ]
        }
      ]
    },
    {
      "cell_type": "code",
      "source": [
        "# Calculate the weighted F1 score\n",
        "weighted_f1 = f1_score(y_test, y_knn, average='weighted')\n",
        "\n",
        "print(f'Weighted F1 Score: {weighted_f1}')"
      ],
      "metadata": {
        "colab": {
          "base_uri": "https://localhost:8080/"
        },
        "id": "ut3tFdN-FW9T",
        "outputId": "15663311-babd-4e0b-bdda-87657904034a"
      },
      "execution_count": 11,
      "outputs": [
        {
          "output_type": "stream",
          "name": "stdout",
          "text": [
            "Weighted F1 Score: 0.6448601387932203\n"
          ]
        }
      ]
    },
    {
      "cell_type": "code",
      "source": [
        "from sklearn.metrics import accuracy_score\n",
        "\n",
        "# Assuming y_test and y_pred are already defined from the KNN model predictions\n",
        "# Calculate accuracy\n",
        "accuracy = accuracy_score(y_test, y_knn)\n",
        "\n",
        "accuracy"
      ],
      "metadata": {
        "colab": {
          "base_uri": "https://localhost:8080/"
        },
        "id": "F26aXtj7FmbN",
        "outputId": "b63508fe-7360-4475-9450-713274ff5769"
      },
      "execution_count": 12,
      "outputs": [
        {
          "output_type": "execute_result",
          "data": {
            "text/plain": [
              "0.655455574528501"
            ]
          },
          "metadata": {},
          "execution_count": 12
        }
      ]
    },
    {
      "cell_type": "code",
      "source": [
        "from sklearn.metrics import confusion_matrix\n",
        "\n",
        "# Calculate confusion matrix for KNN model\n",
        "conf_matrix_knn = confusion_matrix(y_test, y_knn)\n",
        "\n",
        "conf_matrix_knn"
      ],
      "metadata": {
        "colab": {
          "base_uri": "https://localhost:8080/"
        },
        "id": "I8FHtGKvFqnb",
        "outputId": "7e5bea7e-4c79-475d-d7e4-32d93b73a25d"
      },
      "execution_count": 13,
      "outputs": [
        {
          "output_type": "execute_result",
          "data": {
            "text/plain": [
              "array([[ 2183,  2591,   251],\n",
              "       [ 1521, 23694,  4437],\n",
              "       [  154,  9004,  8286]])"
            ]
          },
          "metadata": {},
          "execution_count": 13
        }
      ]
    }
  ]
}