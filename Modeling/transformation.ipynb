{
 "cells": [
  {
   "cell_type": "code",
   "execution_count": 2,
   "metadata": {},
   "outputs": [],
   "source": [
    "import pandas as pd\n",
    "from sklearn.preprocessing import MinMaxScaler\n",
    "import numpy as np\n",
    "\n",
    "# Load the dataset\n",
    "df = pd.read_csv('../Resources/Datasets/train_values.csv')\n",
    "\n",
    "# Apply a log transformation to positive, non-zero columns to reduce skewness\n",
    "for column in df.select_dtypes(include=[np.number]).columns:\n",
    "    # Add a small constant to avoid issues with zero values\n",
    "    df[column] = np.log1p(df[column])\n",
    "\n",
    "# Apply Min-Max normalization\n",
    "scaler = MinMaxScaler()\n",
    "df[df.select_dtypes(include=[np.number]).columns] = scaler.fit_transform(df.select_dtypes(include=[np.number]))\n",
    "\n",
    "# Save the transformed data\n",
    "transformed_data_path = '../Resources/Datasets/transformed_train_values.csv'\n",
    "df.to_csv(transformed_data_path, index=False)"
   ]
  },
  {
   "cell_type": "code",
   "execution_count": 3,
   "metadata": {},
   "outputs": [],
   "source": [
    "# Load the dataset\n",
    "df = pd.read_csv('../Resources/Datasets/test_values.csv')\n",
    "\n",
    "# Apply a log transformation to positive, non-zero columns to reduce skewness\n",
    "for column in df.select_dtypes(include=[np.number]).columns:\n",
    "    # Add a small constant to avoid issues with zero values\n",
    "    df[column] = np.log1p(df[column])\n",
    "\n",
    "# Apply Min-Max normalization\n",
    "scaler = MinMaxScaler()\n",
    "df[df.select_dtypes(include=[np.number]).columns] = scaler.fit_transform(df.select_dtypes(include=[np.number]))\n",
    "\n",
    "# Save the transformed data\n",
    "transformed_data_path = '../Resources/Datasets/transformed_test_values.csv'\n",
    "df.to_csv(transformed_data_path, index=False)"
   ]
  }
 ],
 "metadata": {
  "kernelspec": {
   "display_name": "reiannaenv",
   "language": "python",
   "name": "python3"
  },
  "language_info": {
   "codemirror_mode": {
    "name": "ipython",
    "version": 3
   },
   "file_extension": ".py",
   "mimetype": "text/x-python",
   "name": "python",
   "nbconvert_exporter": "python",
   "pygments_lexer": "ipython3",
   "version": "3.10.12"
  }
 },
 "nbformat": 4,
 "nbformat_minor": 2
}
