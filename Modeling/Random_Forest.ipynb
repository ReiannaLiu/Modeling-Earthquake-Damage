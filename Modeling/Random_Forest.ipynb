{
  "nbformat": 4,
  "nbformat_minor": 0,
  "metadata": {
    "colab": {
      "provenance": []
    },
    "kernelspec": {
      "name": "python3",
      "display_name": "Python 3"
    },
    "language_info": {
      "name": "python"
    }
  },
  "cells": [
    {
      "cell_type": "code",
      "source": [
        "from google.colab import drive\n",
        "drive.mount('/content/drive')"
      ],
      "metadata": {
        "colab": {
          "base_uri": "https://localhost:8080/"
        },
        "id": "RjNfPdjYHy6k",
        "outputId": "5d51c4f7-7006-4ab8-f50d-e0aca13cbe0c"
      },
      "execution_count": null,
      "outputs": [
        {
          "output_type": "stream",
          "name": "stdout",
          "text": [
            "Drive already mounted at /content/drive; to attempt to forcibly remount, call drive.mount(\"/content/drive\", force_remount=True).\n"
          ]
        }
      ]
    },
    {
      "cell_type": "code",
      "source": [
        "import pandas as pd\n",
        "\n",
        "# Load the datasets\n",
        "X_train = pd.read_csv('/content/drive/MyDrive/Stats 5243 Project I/X_train.csv')\n",
        "y_train = pd.read_csv('/content/drive/MyDrive/Stats 5243 Project I/y_train.csv')\n",
        "X_test = pd.read_csv('/content/drive/MyDrive/Stats 5243 Project I/X_test.csv')\n",
        "y_test = pd.read_csv('/content/drive/MyDrive/Stats 5243 Project I/y_test.csv')\n",
        "\n",
        "X_train.head(), y_train.head(), X_test.head(), y_test.head()\n"
      ],
      "metadata": {
        "id": "-YcxClk6H4lU"
      },
      "execution_count": null,
      "outputs": []
    },
    {
      "cell_type": "code",
      "execution_count": 3,
      "metadata": {
        "id": "wDY7SN8RGSis",
        "colab": {
          "base_uri": "https://localhost:8080/"
        },
        "outputId": "aef8d10e-845e-4a8b-e8b7-5968a9aef6c4"
      },
      "outputs": [
        {
          "output_type": "execute_result",
          "data": {
            "text/plain": [
              "0.7100536795446535"
            ]
          },
          "metadata": {},
          "execution_count": 3
        }
      ],
      "source": [
        "from sklearn.ensemble import RandomForestClassifier\n",
        "from sklearn.metrics import f1_score\n",
        "\n",
        "# Prepare the target variable by selecting the 'damage_grade' column\n",
        "y_train_target = y_train['damage_grade']\n",
        "y_test_target = y_test['damage_grade']\n",
        "\n",
        "# Initialize the Random Forest classifier\n",
        "rf_model = RandomForestClassifier(random_state=42)\n",
        "\n",
        "# Fit the model to the training data\n",
        "rf_model.fit(X_train, y_train_target)\n",
        "\n",
        "# Predict on the test data\n",
        "y_pred = rf_model.predict(X_test)\n",
        "\n",
        "# Calculate the weighted F1 score\n",
        "weighted_f1_score = f1_score(y_test_target, y_pred, average='weighted')\n",
        "\n",
        "weighted_f1_score\n"
      ]
    },
    {
      "cell_type": "code",
      "source": [
        "from sklearn.metrics import accuracy_score\n",
        "\n",
        "# Calculate accuracy\n",
        "accuracy = accuracy_score(y_test_target, y_pred)\n",
        "\n",
        "accuracy"
      ],
      "metadata": {
        "colab": {
          "base_uri": "https://localhost:8080/"
        },
        "id": "RHzvMgK0N24Y",
        "outputId": "e0dce1df-b13c-477d-b35d-e7f2aecbecd0"
      },
      "execution_count": 5,
      "outputs": [
        {
          "output_type": "execute_result",
          "data": {
            "text/plain": [
              "0.7177529210874696"
            ]
          },
          "metadata": {},
          "execution_count": 5
        }
      ]
    },
    {
      "cell_type": "code",
      "source": [
        "from sklearn.metrics import confusion_matrix\n",
        "\n",
        "# Calculate the confusion matrix\n",
        "conf_matrix = confusion_matrix(y_test_target, y_pred)\n",
        "\n",
        "conf_matrix\n"
      ],
      "metadata": {
        "colab": {
          "base_uri": "https://localhost:8080/"
        },
        "id": "a2GhBl1iPG5q",
        "outputId": "dbc66247-a0e1-4fac-e8b6-f6fa5dff185a"
      },
      "execution_count": 6,
      "outputs": [
        {
          "output_type": "execute_result",
          "data": {
            "text/plain": [
              "array([[ 2318,  2613,    94],\n",
              "       [ 1099, 24945,  3608],\n",
              "       [  105,  7192, 10147]])"
            ]
          },
          "metadata": {},
          "execution_count": 6
        }
      ]
    },
    {
      "cell_type": "code",
      "source": [
        "from sklearn.metrics import classification_report\n",
        "\n",
        "# Generate a classification report\n",
        "class_report = classification_report(y_test_target, y_pred)\n",
        "\n",
        "print(class_report)\n"
      ],
      "metadata": {
        "id": "FocNZ036PwTd",
        "outputId": "5d209671-3301-4074-a0d0-2ed39f6d8067",
        "colab": {
          "base_uri": "https://localhost:8080/"
        }
      },
      "execution_count": 7,
      "outputs": [
        {
          "output_type": "stream",
          "name": "stdout",
          "text": [
            "              precision    recall  f1-score   support\n",
            "\n",
            "           1       0.66      0.46      0.54      5025\n",
            "           2       0.72      0.84      0.77     29652\n",
            "           3       0.73      0.58      0.65     17444\n",
            "\n",
            "    accuracy                           0.72     52121\n",
            "   macro avg       0.70      0.63      0.66     52121\n",
            "weighted avg       0.72      0.72      0.71     52121\n",
            "\n"
          ]
        }
      ]
    }
  ]
}