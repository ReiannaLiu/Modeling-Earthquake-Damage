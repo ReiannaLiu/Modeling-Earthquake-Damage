{
 "cells": [
  {
   "cell_type": "code",
   "execution_count": 1,
   "metadata": {},
   "outputs": [],
   "source": [
    "import pandas as pd\n",
    "import numpy as np\n",
    "import matplotlib.pyplot as plt\n",
    "import seaborn as sns\n",
    "import os\n",
    "\n",
    "from sklearn.linear_model import LogisticRegression\n",
    "from sklearn.metrics import classification_report, confusion_matrix, auc, roc_curve\n",
    "from sklearn.model_selection import RepeatedStratifiedKFold, cross_val_score\n",
    "import pickle\n",
    "from sklearn.metrics import make_scorer, accuracy_score, classification_report, f1_score, confusion_matrix, roc_auc_score, precision_score, recall_score, average_precision_score\n"
   ]
  },
  {
   "cell_type": "code",
   "execution_count": 3,
   "metadata": {},
   "outputs": [],
   "source": [
    "X_train = pd.read_csv('../Resources/Datasets/X_train.csv', index_col = 'building_id')\n",
    "X_test = pd.read_csv('../Resources/Datasets/X_test.csv', index_col = 'building_id')\n",
    "y_train = pd.read_csv('../Resources/Datasets/y_train.csv', index_col='building_id')\n",
    "y_test = pd.read_csv('../Resources/Datasets/y_test.csv', index_col='building_id')\n",
    "\n",
    "y_train = y_train.values.ravel()\n",
    "y_test = y_test.values.ravel()"
   ]
  },
  {
   "cell_type": "markdown",
   "metadata": {},
   "source": [
    "### Multinomial Logistic Regression\n",
    "\n",
    "softmax function: can be used in multi-class classication problems where the goal is to predict a single label from multiple classes. "
   ]
  },
  {
   "cell_type": "code",
   "execution_count": 3,
   "metadata": {},
   "outputs": [
    {
     "name": "stderr",
     "output_type": "stream",
     "text": [
      "/opt/anaconda3/lib/python3.9/site-packages/scipy/optimize/_linesearch.py:466: LineSearchWarning: The line search algorithm did not converge\n",
      "  warn('The line search algorithm did not converge', LineSearchWarning)\n",
      "/opt/anaconda3/lib/python3.9/site-packages/scipy/optimize/_linesearch.py:314: LineSearchWarning: The line search algorithm did not converge\n",
      "  warn('The line search algorithm did not converge', LineSearchWarning)\n"
     ]
    },
    {
     "name": "stdout",
     "output_type": "stream",
     "text": [
      "Accuracy of logistic regression classifier on test set: 0.59\n",
      "              precision    recall  f1-score   support\n",
      "\n",
      "           1       0.57      0.29      0.38      5025\n",
      "           2       0.60      0.87      0.71     29652\n",
      "           3       0.55      0.20      0.29     17444\n",
      "\n",
      "    accuracy                           0.59     52121\n",
      "   macro avg       0.57      0.46      0.46     52121\n",
      "weighted avg       0.58      0.59      0.54     52121\n",
      "\n",
      "[[ 1467  3443   115]\n",
      " [ 1041 25905  2706]\n",
      " [   88 13873  3483]]\n"
     ]
    },
    {
     "name": "stderr",
     "output_type": "stream",
     "text": [
      "/opt/anaconda3/lib/python3.9/site-packages/sklearn/utils/optimize.py:204: UserWarning: Line Search failed\n",
      "  warnings.warn(\"Line Search failed\")\n"
     ]
    }
   ],
   "source": [
    "# multinomial logistic regression\n",
    "\n",
    "logreg = LogisticRegression(multi_class='multinomial', solver='newton-cg', max_iter=1000)\n",
    "logreg.fit(X_train, y_train)\n",
    "y_pred = logreg.predict(X_test)\n",
    "\n",
    "# accuracy, f1 score, confusion matrix\n",
    "\n",
    "print('Accuracy of logistic regression classifier on test set: {:.2f}'.format(logreg.score(X_test, y_test)))\n",
    "print(classification_report(y_test, y_pred))\n",
    "\n",
    "# confusion matrix\n",
    "conf_matrix = confusion_matrix(y_test, y_pred)\n",
    "print(conf_matrix)\n"
   ]
  },
  {
   "cell_type": "code",
   "execution_count": 5,
   "metadata": {},
   "outputs": [],
   "source": [
    "# pickle the model\n",
    "\n",
    "filename = '../Models/logreg_model.pkl'\n",
    "pickle.dump(logreg, open(filename, 'wb'))\n"
   ]
  },
  {
   "cell_type": "markdown",
   "metadata": {},
   "source": [
    "### Update logistic Regression Result"
   ]
  },
  {
   "cell_type": "code",
   "execution_count": 4,
   "metadata": {},
   "outputs": [],
   "source": [
    "filename = '../Models/logreg_model.pkl'\n",
    "logreg = pickle.load(open(filename, 'rb'))\n",
    "\n",
    "result_df = pd.read_csv('../Resources/Datasets/results.csv', index_col=0)\n",
    "\n",
    "y_pred = logreg.predict(X_test)\n",
    "y_pred_proba = logreg.predict_proba(X_test)\n",
    "\n",
    "result_df.loc['Logistic Regression'] = [accuracy_score(y_test, y_pred), \n",
    "                                   precision_score(y_test, y_pred, average='weighted'), \n",
    "                                   recall_score(y_test, y_pred, average='weighted'), \n",
    "                                   f1_score(y_test, y_pred, average='weighted'), \n",
    "                                   roc_auc_score(y_test, y_pred_proba, multi_class='ovr', average='weighted'), \n",
    "                                   average_precision_score(y_test, y_pred_proba, average='weighted')]"
   ]
  },
  {
   "cell_type": "code",
   "execution_count": 5,
   "metadata": {},
   "outputs": [],
   "source": [
    "result_df.to_csv('../Resources/Datasets/results.csv')"
   ]
  }
 ],
 "metadata": {
  "kernelspec": {
   "display_name": "base",
   "language": "python",
   "name": "python3"
  },
  "language_info": {
   "codemirror_mode": {
    "name": "ipython",
    "version": 3
   },
   "file_extension": ".py",
   "mimetype": "text/x-python",
   "name": "python",
   "nbconvert_exporter": "python",
   "pygments_lexer": "ipython3",
   "version": "3.9.12"
  }
 },
 "nbformat": 4,
 "nbformat_minor": 2
}
