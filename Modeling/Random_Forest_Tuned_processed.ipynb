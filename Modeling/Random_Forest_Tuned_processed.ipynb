{
  "nbformat": 4,
  "nbformat_minor": 0,
  "metadata": {
    "colab": {
      "provenance": []
    },
    "kernelspec": {
      "name": "python3",
      "display_name": "Python 3"
    },
    "language_info": {
      "name": "python"
    }
  },
  "cells": [
    {
      "cell_type": "code",
      "source": [
        "from google.colab import drive\n",
        "drive.mount('/content/drive')"
      ],
      "metadata": {
        "colab": {
          "base_uri": "https://localhost:8080/"
        },
        "id": "RjNfPdjYHy6k",
        "outputId": "65c8702b-0c12-404a-d405-e38bcea366d0"
      },
      "execution_count": 1,
      "outputs": [
        {
          "output_type": "stream",
          "name": "stdout",
          "text": [
            "Mounted at /content/drive\n"
          ]
        }
      ]
    },
    {
      "cell_type": "code",
      "source": [
        "import pandas as pd\n",
        "\n",
        "# Load the datasets\n",
        "X_train = pd.read_csv('/content/drive/MyDrive/Modeling-Earthquake-Damage-main/Resources/Processed data/X_train_processed.csv', header = None)\n",
        "y_train = pd.read_csv('/content/drive/MyDrive/Modeling-Earthquake-Damage-main/Resources/Processed data/y_train_processed.csv')\n",
        "X_test = pd.read_csv('/content/drive/MyDrive/Modeling-Earthquake-Damage-main/Resources/Processed data/X_test_processed.csv', header = None)\n",
        "y_test = pd.read_csv('/content/drive/MyDrive/Modeling-Earthquake-Damage-main/Resources/Processed data/y_test_processed.csv')\n",
        "\n",
        "X_train.head(), y_train.head(), X_test.head(), y_test.head()\n",
        "\n",
        "if isinstance(y_train, pd.DataFrame):\n",
        "    y_train = y_train['damage_grade']\n",
        "if isinstance(y_test, pd.DataFrame):\n",
        "    y_test = y_test['damage_grade']\n",
        "\n",
        "y_train = y_train.squeeze()\n",
        "y_test = y_test.squeeze()\n"
      ],
      "metadata": {
        "id": "-YcxClk6H4lU"
      },
      "execution_count": 2,
      "outputs": []
    },
    {
      "cell_type": "code",
      "source": [
        "from sklearn.model_selection import GridSearchCV\n",
        "from sklearn.ensemble import RandomForestClassifier\n",
        "\n",
        "# Define the model\n",
        "rf = RandomForestClassifier()\n",
        "\n",
        "# Define parameter grid\n",
        "param_grid = {\n",
        "    'n_estimators': [50, 100, 200],  # Number of trees\n",
        "    'max_depth': [None, 10, 20, 30],  # Maximum depth of trees\n",
        "    'min_samples_split': [2, 5, 10]  # Minimum number of samples required to split an internal node\n",
        "}\n",
        "\n",
        "# Setup Grid Search\n",
        "grid_search = GridSearchCV(estimator=rf, param_grid=param_grid, cv=5, n_jobs=-1)\n",
        "\n",
        "# Fit the model\n",
        "grid_search.fit(X_train, y_train)\n",
        "\n",
        "# Best parameters\n",
        "print(\"Best parameters:\", grid_search.best_params_)"
      ],
      "metadata": {
        "colab": {
          "base_uri": "https://localhost:8080/"
        },
        "id": "ImRFXqU6TxRM",
        "outputId": "67303436-c37c-46bf-d552-5ef457c3e950"
      },
      "execution_count": 4,
      "outputs": [
        {
          "output_type": "stream",
          "name": "stderr",
          "text": [
            "/usr/local/lib/python3.10/dist-packages/joblib/externals/loky/process_executor.py:752: UserWarning: A worker stopped while some jobs were given to the executor. This can be caused by a too short worker timeout or by a memory leak.\n",
            "  warnings.warn(\n"
          ]
        },
        {
          "output_type": "stream",
          "name": "stdout",
          "text": [
            "Best parameters: {'max_depth': 30, 'min_samples_split': 10, 'n_estimators': 200}\n"
          ]
        }
      ]
    },
    {
      "cell_type": "code",
      "source": [
        "best_model = grid_search.best_estimator_\n",
        "y_pred = best_model.predict(X_test)\n"
      ],
      "metadata": {
        "id": "tsvcfQ1v3S4x"
      },
      "execution_count": 5,
      "outputs": []
    },
    {
      "cell_type": "code",
      "source": [
        "from sklearn.ensemble import RandomForestClassifier\n",
        "from sklearn.metrics import f1_score\n",
        "\n",
        "# Calculate the weighted F1 score\n",
        "weighted_f1_score = f1_score(y_test, y_pred, average='weighted')\n",
        "\n",
        "weighted_f1_score\n"
      ],
      "metadata": {
        "colab": {
          "base_uri": "https://localhost:8080/"
        },
        "id": "cB0_QyYp4aYF",
        "outputId": "f7908f17-8861-4e93-9fec-4e8f1328829d"
      },
      "execution_count": 6,
      "outputs": [
        {
          "output_type": "execute_result",
          "data": {
            "text/plain": [
              "0.6664291342265066"
            ]
          },
          "metadata": {},
          "execution_count": 6
        }
      ]
    },
    {
      "cell_type": "code",
      "source": [
        "from sklearn.metrics import accuracy_score\n",
        "\n",
        "# Calculate accuracy\n",
        "accuracy = accuracy_score(y_test, y_pred)\n",
        "\n",
        "accuracy"
      ],
      "metadata": {
        "colab": {
          "base_uri": "https://localhost:8080/"
        },
        "id": "dptC7s2C4q0t",
        "outputId": "d8be9509-32a7-4b9f-fffb-9bf701336d60"
      },
      "execution_count": 7,
      "outputs": [
        {
          "output_type": "execute_result",
          "data": {
            "text/plain": [
              "0.6799562556359241"
            ]
          },
          "metadata": {},
          "execution_count": 7
        }
      ]
    },
    {
      "cell_type": "code",
      "source": [
        "from sklearn.metrics import confusion_matrix\n",
        "\n",
        "# Calculate the confusion matrix\n",
        "conf_matrix = confusion_matrix(y_test, y_pred)\n",
        "\n",
        "conf_matrix"
      ],
      "metadata": {
        "colab": {
          "base_uri": "https://localhost:8080/"
        },
        "id": "i0bDETGz4uTl",
        "outputId": "e7c78bc6-c0b4-4227-ebdf-abd4797b28b0"
      },
      "execution_count": 8,
      "outputs": [
        {
          "output_type": "execute_result",
          "data": {
            "text/plain": [
              "array([[ 1930,  2956,   139],\n",
              "       [ 1005, 24886,  3761],\n",
              "       [   91,  8729,  8624]])"
            ]
          },
          "metadata": {},
          "execution_count": 8
        }
      ]
    },
    {
      "cell_type": "code",
      "source": [
        "from sklearn.metrics import classification_report\n",
        "\n",
        "# Generate a classification report\n",
        "class_report = classification_report(y_test, y_pred)\n",
        "\n",
        "print(class_report)"
      ],
      "metadata": {
        "colab": {
          "base_uri": "https://localhost:8080/"
        },
        "id": "SDJTzFgT4ymy",
        "outputId": "485d1b72-87ee-4237-ea6d-e377792d936e"
      },
      "execution_count": 9,
      "outputs": [
        {
          "output_type": "stream",
          "name": "stdout",
          "text": [
            "              precision    recall  f1-score   support\n",
            "\n",
            "           1       0.64      0.38      0.48      5025\n",
            "           2       0.68      0.84      0.75     29652\n",
            "           3       0.69      0.49      0.58     17444\n",
            "\n",
            "    accuracy                           0.68     52121\n",
            "   macro avg       0.67      0.57      0.60     52121\n",
            "weighted avg       0.68      0.68      0.67     52121\n",
            "\n"
          ]
        }
      ]
    }
  ]
}