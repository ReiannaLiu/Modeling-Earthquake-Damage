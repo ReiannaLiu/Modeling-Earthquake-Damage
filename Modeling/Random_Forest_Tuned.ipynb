{
  "nbformat": 4,
  "nbformat_minor": 0,
  "metadata": {
    "colab": {
      "provenance": []
    },
    "kernelspec": {
      "name": "python3",
      "display_name": "Python 3"
    },
    "language_info": {
      "name": "python"
    }
  },
  "cells": [
    {
      "cell_type": "code",
      "source": [
        "from google.colab import drive\n",
        "drive.mount('/content/drive')"
      ],
      "metadata": {
        "colab": {
          "base_uri": "https://localhost:8080/"
        },
        "id": "RjNfPdjYHy6k",
        "outputId": "76215b31-98d3-4f67-daee-b9c434278077"
      },
      "execution_count": 1,
      "outputs": [
        {
          "output_type": "stream",
          "name": "stdout",
          "text": [
            "Mounted at /content/drive\n"
          ]
        }
      ]
    },
    {
      "cell_type": "code",
      "source": [
        "import pandas as pd\n",
        "\n",
        "# Load the datasets\n",
        "X_train = pd.read_csv('/content/drive/MyDrive/Stats 5243 Project I/X_train.csv')\n",
        "y_train = pd.read_csv('/content/drive/MyDrive/Stats 5243 Project I/y_train.csv')\n",
        "X_test = pd.read_csv('/content/drive/MyDrive/Stats 5243 Project I/X_test.csv')\n",
        "y_test = pd.read_csv('/content/drive/MyDrive/Stats 5243 Project I/y_test.csv')\n",
        "\n",
        "X_train.head(), y_train.head(), X_test.head(), y_test.head()\n",
        "\n",
        "if isinstance(y_train, pd.DataFrame):\n",
        "    y_train = y_train['damage_grade']\n",
        "if isinstance(y_test, pd.DataFrame):\n",
        "    y_test = y_test['damage_grade']\n",
        "\n",
        "y_train = y_train.squeeze()\n",
        "y_test = y_test.squeeze()\n"
      ],
      "metadata": {
        "id": "-YcxClk6H4lU"
      },
      "execution_count": 7,
      "outputs": []
    },
    {
      "cell_type": "code",
      "source": [
        "from sklearn.model_selection import GridSearchCV\n",
        "from sklearn.ensemble import RandomForestClassifier\n",
        "\n",
        "# Define the model\n",
        "rf = RandomForestClassifier()\n",
        "\n",
        "# Define parameter grid\n",
        "param_grid = {\n",
        "    'n_estimators': [50, 100, 200],  # Number of trees\n",
        "    'max_depth': [None, 10, 20, 30],  # Maximum depth of trees\n",
        "    'min_samples_split': [2, 5, 10]  # Minimum number of samples required to split an internal node\n",
        "}\n",
        "\n",
        "# Setup Grid Search\n",
        "grid_search = GridSearchCV(estimator=rf, param_grid=param_grid, cv=5, n_jobs=-1)\n",
        "\n",
        "# Fit the model\n",
        "grid_search.fit(X_train, y_train)\n",
        "\n",
        "# Best parameters\n",
        "print(\"Best parameters:\", grid_search.best_params_)"
      ],
      "metadata": {
        "colab": {
          "base_uri": "https://localhost:8080/"
        },
        "id": "ImRFXqU6TxRM",
        "outputId": "8334a878-7fee-4375-e022-2367f55e3a32"
      },
      "execution_count": 8,
      "outputs": [
        {
          "output_type": "stream",
          "name": "stderr",
          "text": [
            "/usr/local/lib/python3.10/dist-packages/joblib/externals/loky/process_executor.py:752: UserWarning: A worker stopped while some jobs were given to the executor. This can be caused by a too short worker timeout or by a memory leak.\n",
            "  warnings.warn(\n"
          ]
        },
        {
          "output_type": "stream",
          "name": "stdout",
          "text": [
            "Best parameters: {'max_depth': None, 'min_samples_split': 5, 'n_estimators': 200}\n"
          ]
        }
      ]
    },
    {
      "cell_type": "code",
      "source": [
        "best_model = grid_search.best_estimator_\n",
        "y_pred = best_model.predict(X_test)\n"
      ],
      "metadata": {
        "id": "tsvcfQ1v3S4x"
      },
      "execution_count": 12,
      "outputs": []
    },
    {
      "cell_type": "code",
      "source": [
        "from sklearn.ensemble import RandomForestClassifier\n",
        "from sklearn.metrics import f1_score\n",
        "\n",
        "# Calculate the weighted F1 score\n",
        "weighted_f1_score = f1_score(y_test, y_pred, average='weighted')\n",
        "\n",
        "weighted_f1_score\n"
      ],
      "metadata": {
        "colab": {
          "base_uri": "https://localhost:8080/"
        },
        "id": "cB0_QyYp4aYF",
        "outputId": "f4d05ca6-eacd-47b1-a6b6-9666a54980be"
      },
      "execution_count": 13,
      "outputs": [
        {
          "output_type": "execute_result",
          "data": {
            "text/plain": [
              "0.7132945803502246"
            ]
          },
          "metadata": {},
          "execution_count": 13
        }
      ]
    },
    {
      "cell_type": "code",
      "source": [
        "from sklearn.metrics import accuracy_score\n",
        "\n",
        "# Calculate accuracy\n",
        "accuracy = accuracy_score(y_test, y_pred)\n",
        "\n",
        "accuracy"
      ],
      "metadata": {
        "colab": {
          "base_uri": "https://localhost:8080/"
        },
        "id": "dptC7s2C4q0t",
        "outputId": "c8438a7c-a7ab-4964-ea01-ad0ceaa543ed"
      },
      "execution_count": 14,
      "outputs": [
        {
          "output_type": "execute_result",
          "data": {
            "text/plain": [
              "0.722223288118033"
            ]
          },
          "metadata": {},
          "execution_count": 14
        }
      ]
    },
    {
      "cell_type": "code",
      "source": [
        "from sklearn.metrics import confusion_matrix\n",
        "\n",
        "# Calculate the confusion matrix\n",
        "conf_matrix = confusion_matrix(y_test, y_pred)\n",
        "\n",
        "conf_matrix"
      ],
      "metadata": {
        "colab": {
          "base_uri": "https://localhost:8080/"
        },
        "id": "i0bDETGz4uTl",
        "outputId": "619214e0-0bd8-4a3e-9c42-3b39b4a4919f"
      },
      "execution_count": 15,
      "outputs": [
        {
          "output_type": "execute_result",
          "data": {
            "text/plain": [
              "array([[ 2242,  2723,    60],\n",
              "       [  991, 25354,  3307],\n",
              "       [   90,  7307, 10047]])"
            ]
          },
          "metadata": {},
          "execution_count": 15
        }
      ]
    },
    {
      "cell_type": "code",
      "source": [
        "from sklearn.metrics import classification_report\n",
        "\n",
        "# Generate a classification report\n",
        "class_report = classification_report(y_test, y_pred)\n",
        "\n",
        "print(class_report)"
      ],
      "metadata": {
        "colab": {
          "base_uri": "https://localhost:8080/"
        },
        "id": "SDJTzFgT4ymy",
        "outputId": "b0ed3b1c-4252-4a86-d6df-b6367084011d"
      },
      "execution_count": 16,
      "outputs": [
        {
          "output_type": "stream",
          "name": "stdout",
          "text": [
            "              precision    recall  f1-score   support\n",
            "\n",
            "           1       0.67      0.45      0.54      5025\n",
            "           2       0.72      0.86      0.78     29652\n",
            "           3       0.75      0.58      0.65     17444\n",
            "\n",
            "    accuracy                           0.72     52121\n",
            "   macro avg       0.71      0.63      0.66     52121\n",
            "weighted avg       0.72      0.72      0.71     52121\n",
            "\n"
          ]
        }
      ]
    }
  ]
}